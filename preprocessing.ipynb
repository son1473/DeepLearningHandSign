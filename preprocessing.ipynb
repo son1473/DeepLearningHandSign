{
 "cells": [
  {
   "cell_type": "code",
   "execution_count": 1,
   "id": "9aeef6d8-8efc-4cd2-8ee6-546f3ec00e6a",
   "metadata": {},
   "outputs": [],
   "source": [
    "import os\n",
    "import cv2\n",
    "import numpy as np\n",
    "import torch\n",
    "from torch.utils.data import Dataset, DataLoader\n",
    "from torchvision import transforms\n",
    "from sklearn.model_selection import train_test_split"
   ]
  },
  {
   "cell_type": "code",
   "execution_count": 3,
   "id": "5dc5a8e2-773b-4a2e-9f6f-5f133fce9121",
   "metadata": {},
   "outputs": [],
   "source": [
    "class CustomImageDataset(Dataset):\n",
    "    def __init__(self, image_paths, labels, transform=None):\n",
    "        self.image_paths = image_paths\n",
    "        self.labels = labels\n",
    "        self.transform = transform\n",
    "\n",
    "    def __len__(self):\n",
    "        return len(self.image_paths)\n",
    "\n",
    "    def __getitem__(self, idx):\n",
    "        image_path = self.image_paths[idx]\n",
    "        image = cv2.imread(image_path)\n",
    "        image = cv2.cvtColor(image, cv2.COLOR_BGR2RGB)  # OpenCV에서는 기본적으로 BGR로 이미지를 로드합니다. RGB로 변환합니다.\n",
    "        label = self.labels[idx]\n",
    "        if self.transform:\n",
    "            image = self.transform(image)\n",
    "        return image, label\n"
   ]
  },
  {
   "cell_type": "code",
   "execution_count": 4,
   "id": "8c2c81e4-b060-46d4-ad61-829fd3c97028",
   "metadata": {},
   "outputs": [],
   "source": [
    "def calculate_mean_std(loader):\n",
    "    mean = 0.\n",
    "    std = 0.\n",
    "    for images, _ in loader:\n",
    "        batch_samples = images.size(0)  # 배치 크기\n",
    "        images = images.view(batch_samples, images.size(1), -1)\n",
    "        mean += images.mean(2).sum(0)\n",
    "        std += images.std(2).sum(0)\n",
    "    mean /= len(loader.dataset)\n",
    "    std /= len(loader.dataset)\n",
    "    return mean, std"
   ]
  },
  {
   "cell_type": "code",
   "execution_count": 7,
   "id": "38f7e607-f5fd-437b-b5b4-f4d3aac22147",
   "metadata": {},
   "outputs": [],
   "source": [
    "image_dir = '폴더이름'\n",
    "image_paths = [os.path.join(image_dir, x) for x in os.listdir(image_dir)]\n",
    "labels = [0 if 'class0' in x else 1 for x in image_paths]  # 예시로 레이블을 생성합니다. 실제 사용 시 적절히 조정해야 합니다."
   ]
  },
  {
   "cell_type": "code",
   "execution_count": null,
   "id": "1d4972d8-a0fd-4d0a-b38a-bc8582672f56",
   "metadata": {},
   "outputs": [],
   "source": [
    "train_paths, test_paths, train_labels, test_labels = train_test_split(image_paths, labels, test_size=0.2, random_state=42)"
   ]
  },
  {
   "cell_type": "code",
   "execution_count": null,
   "id": "73e28831-3bf8-4c8e-8dab-824e5f23f4e3",
   "metadata": {},
   "outputs": [],
   "source": [
    "train_dataset = CustomImageDataset(train_paths, train_labels)\n",
    "test_dataset = CustomImageDataset(test_paths, test_labels)"
   ]
  },
  {
   "cell_type": "code",
   "execution_count": null,
   "id": "2825cc74-9a1b-4119-94ca-afb245cb382d",
   "metadata": {},
   "outputs": [],
   "source": [
    "train_loader = DataLoader(train_dataset, batch_size=64, shuffle=True)\n",
    "test_loader = DataLoader(test_dataset, batch_size=100, shuffle=False)"
   ]
  },
  {
   "cell_type": "code",
   "execution_count": null,
   "id": "61748228-ea41-40e7-81dc-5fe4f9b7c676",
   "metadata": {},
   "outputs": [],
   "source": [
    "# 평균과 표준편차 계산\n",
    "mean, std = calculate_mean_std(train_loader)\n",
    "\n",
    "# 정규화를 포함한 변환 정의\n",
    "transform = transforms.Compose([\n",
    "    transforms.ToTensor(),\n",
    "    transforms.Normalize(mean, std)\n",
    "])"
   ]
  },
  {
   "cell_type": "code",
   "execution_count": null,
   "id": "f5d716dd-0c37-4c6c-8497-3e2172e8a47f",
   "metadata": {},
   "outputs": [],
   "source": [
    "# 변환 적용\n",
    "train_dataset = CustomImageDataset(train_paths, train_labels, transform=transform)\n",
    "test_dataset = CustomImageDataset(test_paths, test_labels, transform=transform)"
   ]
  },
  {
   "cell_type": "code",
   "execution_count": null,
   "id": "bb4fb01b-88a7-41a8-b54f-f4356451ff01",
   "metadata": {},
   "outputs": [],
   "source": [
    "train_loader = DataLoader(train_dataset, batch_size=64, shuffle=True)\n",
    "test_loader = DataLoader(test_dataset, batch_size=100, shuffle=False)"
   ]
  }
 ],
 "metadata": {
  "kernelspec": {
   "display_name": "Python 3 (ipykernel)",
   "language": "python",
   "name": "python3"
  },
  "language_info": {
   "codemirror_mode": {
    "name": "ipython",
    "version": 3
   },
   "file_extension": ".py",
   "mimetype": "text/x-python",
   "name": "python",
   "nbconvert_exporter": "python",
   "pygments_lexer": "ipython3",
   "version": "3.12.3"
  }
 },
 "nbformat": 4,
 "nbformat_minor": 5
}
